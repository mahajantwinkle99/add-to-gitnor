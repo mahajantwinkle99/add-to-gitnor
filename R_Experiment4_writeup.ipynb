{
  "nbformat": 4,
  "nbformat_minor": 0,
  "metadata": {
    "colab": {
      "name": "R_Experiment4_writeup.ipynb",
      "provenance": [],
      "collapsed_sections": [],
      "include_colab_link": true
    },
    "kernelspec": {
      "name": "ir",
      "display_name": "R"
    }
  },
  "cells": [
    {
      "cell_type": "markdown",
      "metadata": {
        "id": "view-in-github",
        "colab_type": "text"
      },
      "source": [
        "<a href=\"https://colab.research.google.com/github/mahajantwinkle99/add-to-gitnor/blob/main/R_Experiment4_writeup.ipynb\" target=\"_parent\"><img src=\"https://colab.research.google.com/assets/colab-badge.svg\" alt=\"Open In Colab\"/></a>"
      ]
    },
    {
      "cell_type": "markdown",
      "metadata": {
        "id": "ID8ytqkhyQUI"
      },
      "source": [
        "**R Programming apply family of functions**\n",
        "\n",
        "In this experiment we will learn about how to use apply family of functions\n",
        "to do data wrangling and avaoid use of looping constructs \n",
        "\n",
        "The R base manual tells you that it’s called as follows: \n",
        "\n",
        "```\n",
        "apply(X, MARGIN, FUN, ...)\n",
        "```\n",
        "\n",
        "\n",
        "```X``` is an array or a matrix if the dimension of the array is ```2```\n",
        "\n",
        "```MARGIN``` is a variable defining how the function is applied: \n",
        " \n",
        "\n",
        "*   When ```MARGIN=1```, it applies over rows \n",
        "*   Whereas with ```MARGIN=2```, it works over columns\n",
        "*   ```MARGIN=c(1,2)```, it applies to both rows and columns;     \n",
        "\n",
        "and\n",
        "```FUN```, represents the function that you want to apply to the data. It can be any R function, including a User Defined Function (UDF)."
      ]
    },
    {
      "cell_type": "code",
      "metadata": {
        "id": "rlOEIqlfJf2P",
        "colab": {
          "base_uri": "https://localhost:8080/",
          "height": 182
        },
        "outputId": "911071d7-c9ef-4cf9-ee54-a88ba871911a"
      },
      "source": [
        "# Complete the following code by using apropriate apply family function\n",
        "# Construct a 5x6 matrix\n",
        "X <-matrix(rnorm(30), nrow=5, ncol=6)\n",
        "X\n",
        "# Sum the values of each column with apply()\n",
        "\n",
        "# Sum the values of each row with apply()\n"
      ],
      "execution_count": null,
      "outputs": [
        {
          "output_type": "display_data",
          "data": {
            "text/plain": [
              "     [,1]       [,2]       [,3]        [,4]       [,5]      [,6]      \n",
              "[1,]  0.6794230  1.0518425  0.12945970  2.3766246 0.8652372  0.4034514\n",
              "[2,] -1.1469032 -1.0618102 -0.04939965  0.5597176 0.7240734  0.7365953\n",
              "[3,] -1.7573895  0.1779995 -0.25218026  0.5576039 0.4537757  0.2346197\n",
              "[4,] -0.6843666  0.2299046  1.14956594  0.1813669 0.5359531 -0.5797062\n",
              "[5,] -0.4744851  0.8150594 -0.79211723 -1.3051058 0.8200654 -0.1618692"
            ],
            "text/latex": "A matrix: 5 × 6 of type dbl\n\\begin{tabular}{llllll}\n\t  0.6794230 &  1.0518425 &  0.12945970 &  2.3766246 & 0.8652372 &  0.4034514\\\\\n\t -1.1469032 & -1.0618102 & -0.04939965 &  0.5597176 & 0.7240734 &  0.7365953\\\\\n\t -1.7573895 &  0.1779995 & -0.25218026 &  0.5576039 & 0.4537757 &  0.2346197\\\\\n\t -0.6843666 &  0.2299046 &  1.14956594 &  0.1813669 & 0.5359531 & -0.5797062\\\\\n\t -0.4744851 &  0.8150594 & -0.79211723 & -1.3051058 & 0.8200654 & -0.1618692\\\\\n\\end{tabular}\n",
            "text/markdown": "\nA matrix: 5 × 6 of type dbl\n\n|  0.6794230 |  1.0518425 |  0.12945970 |  2.3766246 | 0.8652372 |  0.4034514 |\n| -1.1469032 | -1.0618102 | -0.04939965 |  0.5597176 | 0.7240734 |  0.7365953 |\n| -1.7573895 |  0.1779995 | -0.25218026 |  0.5576039 | 0.4537757 |  0.2346197 |\n| -0.6843666 |  0.2299046 |  1.14956594 |  0.1813669 | 0.5359531 | -0.5797062 |\n| -0.4744851 |  0.8150594 | -0.79211723 | -1.3051058 | 0.8200654 | -0.1618692 |\n\n",
            "text/html": [
              "<table class=\"dataframe\">\n",
              "<caption>A matrix: 5 × 6 of type dbl</caption>\n",
              "<tbody>\n",
              "\t<tr><td> 0.6794230</td><td> 1.0518425</td><td> 0.12945970</td><td> 2.3766246</td><td>0.8652372</td><td> 0.4034514</td></tr>\n",
              "\t<tr><td>-1.1469032</td><td>-1.0618102</td><td>-0.04939965</td><td> 0.5597176</td><td>0.7240734</td><td> 0.7365953</td></tr>\n",
              "\t<tr><td>-1.7573895</td><td> 0.1779995</td><td>-0.25218026</td><td> 0.5576039</td><td>0.4537757</td><td> 0.2346197</td></tr>\n",
              "\t<tr><td>-0.6843666</td><td> 0.2299046</td><td> 1.14956594</td><td> 0.1813669</td><td>0.5359531</td><td>-0.5797062</td></tr>\n",
              "\t<tr><td>-0.4744851</td><td> 0.8150594</td><td>-0.79211723</td><td>-1.3051058</td><td>0.8200654</td><td>-0.1618692</td></tr>\n",
              "</tbody>\n",
              "</table>\n"
            ]
          },
          "metadata": {
            "tags": []
          }
        }
      ]
    },
    {
      "cell_type": "code",
      "metadata": {
        "id": "XzaE_-Cyfpk9"
      },
      "source": [
        "# Complete the following code by using looping construct\n",
        "# Construct a 5x6 matrix\n",
        "X <-matrix(rnorm(30), nrow=5, ncol=6)\n",
        "X\n",
        "# Sum the values of each column with apply()\n"
      ],
      "execution_count": null,
      "outputs": []
    },
    {
      "cell_type": "code",
      "metadata": {
        "id": "9tuxdKsJb8c7"
      },
      "source": [
        "A= matrix(\n",
        "  # taking sequence of elements\n",
        "  c( 1,2,3,4,5,6,7,8,9,10,11,12,13,14,15,16,17,18,19,20,21,22,23,24,25,26,27,28,29,30),\n",
        "  # No of rows\n",
        "  nrow=5,\n",
        "  # No of columns\n",
        "  ncol=6,\n",
        "  byrow=True\n",
        ")\n",
        "rownames(A)=c(\"a\",\"b\",\"c\",\"d\",\"e\")\n",
        "colnames(A)=c(\"e\",\"f\",\"g\",\"h\",\"i\",\"j\")\n",
        "cat (\"The 5*6 matrix:\\n\")\n",
        "print (A)"
      ],
      "execution_count": null,
      "outputs": []
    },
    {
      "cell_type": "code",
      "metadata": {
        "id": "4xBVSM6jd-0Z"
      },
      "source": [
        "      e  f  g  h   i   j\n",
        "a     1  2  3  4   5   6\n",
        "b     7  8  9  10 11   12\n",
        "c    13 14  15 16 17   18\n",
        "d    19 20  21 22 23   24\n",
        "e    25 26 27  28 29   30"
      ],
      "execution_count": null,
      "outputs": []
    },
    {
      "cell_type": "markdown",
      "metadata": {
        "id": "c8gOYmFjf3lO"
      },
      "source": [
        "The **lapply()** Function is used when You want to apply a given function to every element of a list and obtain a list as a result.\n",
        " \n",
        " Syntax of **lapply()** looks like the **apply()** function.\n",
        "\n",
        "There is a slight difference in way they work, which is :\n",
        "\n",
        "\n",
        "\n",
        "1.   **lapply()** can be used for other objects like dataframes, lists or vectors\n",
        "2.   The output returned by **lapply()** is a list (which explains the “l” in the function name), which has the same number of elements as the object passed to it.\n",
        "\n",
        "To see how this works, complete the following code block.\n",
        "\n",
        "**lapply()** is a quite common operation performed on real data when making comparisons or aggregations from different dataframes.\n"
      ]
    },
    {
      "cell_type": "code",
      "metadata": {
        "id": "CbwaRO2ChyfV"
      },
      "source": [
        "# Using sequence 1:9 create a matrix A with size 3*3\n",
        "\n",
        "#Using sequence 4:15 create a matrix B with size 4*3\n",
        "\n",
        "#Using sequnce 8:10 create a matrix C with size 3*2\n",
        "\n",
        "# create variable MyList as list of matrix A, B, C\n",
        "\n",
        "\n",
        "# Using lapply and [ operator Extract the 2nd column from `MyList` with the selection operator `[` with `lapply()`\n",
        "\n",
        "# Using lapply and [ operator Extract the 4th row from `MyList` with the selection operator `[` with `lapply()`\n",
        "\n",
        "\n",
        "# Using lapply and [ operator Extract the 1st row from `MyList` with the selection operator `[` with `lapply()`\n",
        "\n"
      ],
      "execution_count": null,
      "outputs": []
    },
    {
      "cell_type": "markdown",
      "metadata": {
        "id": "G0kWHtRVjDjw"
      },
      "source": [
        "The **sapply()** Function\n",
        "\n",
        "The **sapply()** function works like **lapply()**, but it tries to simplify the output to the most elementary data structure that is possible. And indeed, ```sapply()``` is a **‘wrapper’** function for **lapply()**.\n",
        "\n",
        "Let’s repeat the extraction operation of a single element as in the last example, but now take the first element of the second row (indexes 2 and 1) for each matrix.\n",
        "\n",
        "Applying the **lapply()** function would give us a list unless you pass ```simplify=FALSE``` as a parameter to **sapply()**. Then, a list will be returned. See how it works in the code chunk below:\n",
        "\n"
      ]
    },
    {
      "cell_type": "code",
      "metadata": {
        "id": "RxXnDh47jiBF"
      },
      "source": [
        "# Return a list with `lapply()`\n",
        "lapply(MyList,\"[\", 2, 1 )\n",
        "\n",
        "# Return a vector with `sapply()`\n",
        "sapply(MyList,\"[\", 2, 1 )\n",
        "\n",
        "# Return a list with `sapply()`\n",
        "sapply(MyList,\"[\", 2, 1, simplify=F)\n",
        "\n",
        "# Return a vector with `unlist()`\n",
        "unlist(lapply(MyList,\"[\", 2, 1 ))"
      ],
      "execution_count": null,
      "outputs": []
    },
    {
      "cell_type": "code",
      "metadata": {
        "id": "Y4-N2iyjgrw_",
        "outputId": "9cc182fa-8662-4470-b2d4-62db3576ad65",
        "colab": {
          "base_uri": "https://localhost:8080/",
          "height": 146
        }
      },
      "source": [
        "sapply(x,fUN)\n",
        "Arguments:-x:A vector or an object\n",
        "-Fun:Function applied to each element of x\n",
        "dt<-cars\n",
        "lmmn_cars <-lapply(dt,min)\n",
        "smn_cars <- sapply(dt,min)\n",
        "smn_cars\n",
        "\n"
      ],
      "execution_count": 4,
      "outputs": [
        {
          "output_type": "error",
          "ename": "ERROR",
          "evalue": "ignored",
          "traceback": [
            "Error in parse(text = x, srcfile = src): <text>:2:16: unexpected symbol\n1: sapply(x,fUN)\n2: Arguments:-x:A vector\n                  ^\nTraceback:\n"
          ]
        }
      ]
    },
    {
      "cell_type": "markdown",
      "metadata": {
        "id": "WuuRcW03kJyA"
      },
      "source": [
        "In this Text Block Write note on mapply function and give exampe code and exaplain use of mapply function.\n",
        "\n",
        "1.  \n"
      ]
    },
    {
      "cell_type": "code",
      "metadata": {
        "id": "pos2C33ujiEh"
      },
      "source": [
        "# Example use of mapply function"
      ],
      "execution_count": null,
      "outputs": []
    },
    {
      "cell_type": "code",
      "metadata": {
        "id": "tnazmKPufgGc",
        "outputId": "e097dbf8-3ae7-4105-8cb5-0129a904bdcf",
        "colab": {
          "base_uri": "https://localhost:8080/",
          "height": 130
        }
      },
      "source": [
        "mapply (rep,1:5,5:1)"
      ],
      "execution_count": 2,
      "outputs": [
        {
          "output_type": "display_data",
          "data": {
            "text/plain": [
              "[[1]]\n",
              "[1] 1 1 1 1 1\n",
              "\n",
              "[[2]]\n",
              "[1] 2 2 2 2\n",
              "\n",
              "[[3]]\n",
              "[1] 3 3 3\n",
              "\n",
              "[[4]]\n",
              "[1] 4 4\n",
              "\n",
              "[[5]]\n",
              "[1] 5\n"
            ],
            "text/latex": "\\begin{enumerate}\n\\item \\begin{enumerate*}\n\\item 1\n\\item 1\n\\item 1\n\\item 1\n\\item 1\n\\end{enumerate*}\n\n\\item \\begin{enumerate*}\n\\item 2\n\\item 2\n\\item 2\n\\item 2\n\\end{enumerate*}\n\n\\item \\begin{enumerate*}\n\\item 3\n\\item 3\n\\item 3\n\\end{enumerate*}\n\n\\item \\begin{enumerate*}\n\\item 4\n\\item 4\n\\end{enumerate*}\n\n\\item 5\n\\end{enumerate}\n",
            "text/markdown": "1. 1. 1\n2. 1\n3. 1\n4. 1\n5. 1\n\n\n\n2. 1. 2\n2. 2\n3. 2\n4. 2\n\n\n\n3. 1. 3\n2. 3\n3. 3\n\n\n\n4. 1. 4\n2. 4\n\n\n\n5. 5\n\n\n",
            "text/html": [
              "<ol>\n",
              "\t<li><style>\n",
              ".list-inline {list-style: none; margin:0; padding: 0}\n",
              ".list-inline>li {display: inline-block}\n",
              ".list-inline>li:not(:last-child)::after {content: \"\\00b7\"; padding: 0 .5ex}\n",
              "</style>\n",
              "<ol class=list-inline><li>1</li><li>1</li><li>1</li><li>1</li><li>1</li></ol>\n",
              "</li>\n",
              "\t<li><style>\n",
              ".list-inline {list-style: none; margin:0; padding: 0}\n",
              ".list-inline>li {display: inline-block}\n",
              ".list-inline>li:not(:last-child)::after {content: \"\\00b7\"; padding: 0 .5ex}\n",
              "</style>\n",
              "<ol class=list-inline><li>2</li><li>2</li><li>2</li><li>2</li></ol>\n",
              "</li>\n",
              "\t<li><style>\n",
              ".list-inline {list-style: none; margin:0; padding: 0}\n",
              ".list-inline>li {display: inline-block}\n",
              ".list-inline>li:not(:last-child)::after {content: \"\\00b7\"; padding: 0 .5ex}\n",
              "</style>\n",
              "<ol class=list-inline><li>3</li><li>3</li><li>3</li></ol>\n",
              "</li>\n",
              "\t<li><style>\n",
              ".list-inline {list-style: none; margin:0; padding: 0}\n",
              ".list-inline>li {display: inline-block}\n",
              ".list-inline>li:not(:last-child)::after {content: \"\\00b7\"; padding: 0 .5ex}\n",
              "</style>\n",
              "<ol class=list-inline><li>4</li><li>4</li></ol>\n",
              "</li>\n",
              "\t<li>5</li>\n",
              "</ol>\n"
            ]
          },
          "metadata": {
            "tags": []
          }
        }
      ]
    }
  ]
}